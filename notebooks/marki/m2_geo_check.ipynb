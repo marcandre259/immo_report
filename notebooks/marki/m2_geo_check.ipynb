{
 "cells": [
  {
   "cell_type": "code",
   "execution_count": 33,
   "metadata": {},
   "outputs": [],
   "source": [
    "%load_ext autoreload\n",
    "%autoreload 2\n",
    "\n",
    "import json \n",
    "from datetime import datetime\n",
    "import os \n",
    "from pathlib import Path\n",
    "import re \n",
    "\n",
    "ROOT_PATH = Path(os.path.abspath(\"\")).parents[1]\n",
    "\n",
    "CLASSIFIED_PATH = ROOT_PATH / \"data/classified\"\n",
    "SCRAPING_DAY = 15"
   ]
  },
  {
   "cell_type": "code",
   "execution_count": 46,
   "metadata": {},
   "outputs": [],
   "source": [
    "# Extract date of classified\n",
    "def get_day(file_name: str):\n",
    "    ymd_groups = r\"^classified_.+_(\\d+)_(\\d+).json$\"\n",
    "    year_string = re.findall(ymd_groups, file_name)[0][0] # First element of list, first group\n",
    "    return datetime.strptime(year_string, \"%Y%m%d\").day"
   ]
  },
  {
   "cell_type": "code",
   "execution_count": 47,
   "metadata": {},
   "outputs": [],
   "source": [
    "# Keep classified files that were captured on the 15th of May\n",
    "list_filenames = os.listdir(CLASSIFIED_PATH)\n",
    "list_filenames = [filename for filename in list_filenames if get_day(filename) == 15]"
   ]
  },
  {
   "cell_type": "code",
   "execution_count": 49,
   "metadata": {},
   "outputs": [
    {
     "data": {
      "text/plain": [
       "{'user': {'loginStatus': 'logged out', 'id': '', 'personal': {'language': ''}},\n",
       " 'classified': {'id': '10536930',\n",
       "  'type': 'house',\n",
       "  'subtype': 'house',\n",
       "  'price': '280000',\n",
       "  'transactionType': 'for sale',\n",
       "  'zip': '6830',\n",
       "  'visualisationOption': 'xl',\n",
       "  'kitchen': {'type': 'installed'},\n",
       "  'building': {'constructionYear': '1959', 'condition': 'to be done up'},\n",
       "  'energy': {'heatingType': 'fueloil'},\n",
       "  'certificates': {'primaryEnergyConsumptionLevel': '461'},\n",
       "  'bedroom': {'count': '4'},\n",
       "  'land': {'surface': '530'},\n",
       "  'atticExists': 'true',\n",
       "  'basementExists': 'true',\n",
       "  'outdoor': {'garden': {'surface': '372'}, 'terrace': {'exists': 'true'}},\n",
       "  'specificities': {'SME': {'office': {'exists': 'true'}}},\n",
       "  'wellnessEquipment': {'hasSwimmingPool': ''},\n",
       "  'parking': {'parkingSpaceCount': {'indoor': '1', 'outdoor': '1'}},\n",
       "  'condition': {'isNewlyBuilt': ''}},\n",
       " 'customer': {'id': '3346893',\n",
       "  'name': 'honesty libramont - 7 bureaux proches de chez vous',\n",
       "  'family': 'agency',\n",
       "  'groupInfo': {'id': '', 'name': ''},\n",
       "  'networkInfo': {'id': '', 'name': ''}},\n",
       " 'screen': {'name': 'classified details', 'language': 'en'},\n",
       " 'other_defined': {'name': 'House for sale , 4 bedrooms, €280,000',\n",
       "  'description': '***OPTION-OPTION*** Honesty presents this magnificent property with a unique and incomparable view of the castle of Bouillon and the Semois. Ideally situated in the heights of the valley, the house offers quick access to all facilities such as shops, schools, transport, but also bars and restaurants in the town centre. The property consists of a large living room, an office, a fitted kitchen, four large bedrooms, a bathroom, a convertible attic as well as large cellars and a large, well-oriented terrace and a garden with trees. As a second home or for your household, the house transports you to an exceptional environment, close to the castle, walks and nature. A visit is a must! Call Honesty on 061/29.24.14'},\n",
       " 'classified_table': {'available_as_of': 'after signing the deed',\n",
       "  'neighbourhood_or_locality': 'zone centre province du luxembourg',\n",
       "  'construction_year': '1959',\n",
       "  'building_condition': 'to be done up',\n",
       "  'street_frontage_width': '15 m',\n",
       "  'number_of_frontages': '4',\n",
       "  'covered_parking_spaces': '1',\n",
       "  'outdoor_parking_spaces': '1',\n",
       "  'surroundings_type': 'living area (residential, urban or rural)',\n",
       "  'virtual_visit': '',\n",
       "  'living_area': '180',\n",
       "  'living_room_surface': '15',\n",
       "  'dining_room': 'yes',\n",
       "  'kitchen_type': 'installed',\n",
       "  'kitchen_surface': '13',\n",
       "  'bedrooms': '4',\n",
       "  'bedroom_1_surface': '19',\n",
       "  'bedroom_2_surface': '1870',\n",
       "  'bedroom_3_surface': '13',\n",
       "  'bedroom_4_surface': '13',\n",
       "  'bathrooms': '1',\n",
       "  'toilets': '2',\n",
       "  'office_surface': '14',\n",
       "  'office': 'yes',\n",
       "  'basement_surface': '97',\n",
       "  'attic': 'yes',\n",
       "  'furnished': 'no',\n",
       "  'surface_of_the_plot': '530',\n",
       "  'width_of_the_lot_on_the_street': '',\n",
       "  'connection_to_sewer_network': 'connected',\n",
       "  'garden_surface': '372',\n",
       "  'terrace_surface': '20',\n",
       "  'elevator': 'no',\n",
       "  'accessible_for_disabled_people': 'no',\n",
       "  'tv_cable': 'yes',\n",
       "  'swimming_pool': 'no',\n",
       "  'primary_energy_consumption': '461',\n",
       "  'energy_class': 'f',\n",
       "  'reference_number_of_the_epc_report': '20221102018755',\n",
       "  'co₂_emission': '114 kg co₂/m²',\n",
       "  'yearly_theoretical_total_energy_consumption': '115480 kwh/year',\n",
       "  'as_built_plan': 'no',\n",
       "  'heating_type': 'fuel oil',\n",
       "  'double_glazing': 'yes',\n",
       "  'total_ground_floor_buildable': '124',\n",
       "  'flood_zone_type': 'non flood zone',\n",
       "  'price': '',\n",
       "  'cadastral_income': '',\n",
       "  'tenement_building': 'no',\n",
       "  'address': 'avenue de bouillon 92',\n",
       "  'website': '',\n",
       "  'external_reference': '5319222'}}"
      ]
     },
     "execution_count": 49,
     "metadata": {},
     "output_type": "execute_result"
    }
   ],
   "source": [
    "# Read one file and extract useful variables\n",
    "with open(CLASSIFIED_PATH / list_filenames[0]) as json_file:\n",
    "    class_dict = json.load(json_file)\n",
    "\n",
    "class_dict"
   ]
  },
  {
   "cell_type": "code",
   "execution_count": null,
   "metadata": {},
   "outputs": [],
   "source": [
    "# Find and select renting locations \n"
   ]
  },
  {
   "cell_type": "code",
   "execution_count": 54,
   "metadata": {},
   "outputs": [
    {
     "data": {
      "text/plain": [
       "'for sale'"
      ]
     },
     "execution_count": 54,
     "metadata": {},
     "output_type": "execute_result"
    }
   ],
   "source": [
    "class_dict.get(\"classified\").get(\"transactionType\")"
   ]
  },
  {
   "cell_type": "code",
   "execution_count": null,
   "metadata": {},
   "outputs": [],
   "source": []
  }
 ],
 "metadata": {
  "kernelspec": {
   "display_name": "immo_report",
   "language": "python",
   "name": "python3"
  },
  "language_info": {
   "codemirror_mode": {
    "name": "ipython",
    "version": 3
   },
   "file_extension": ".py",
   "mimetype": "text/x-python",
   "name": "python",
   "nbconvert_exporter": "python",
   "pygments_lexer": "ipython3",
   "version": "3.11.3"
  },
  "orig_nbformat": 4
 },
 "nbformat": 4,
 "nbformat_minor": 2
}
