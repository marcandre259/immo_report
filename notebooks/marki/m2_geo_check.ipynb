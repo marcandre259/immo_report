{
 "cells": [
  {
   "cell_type": "code",
   "execution_count": 297,
   "metadata": {},
   "outputs": [
    {
     "name": "stdout",
     "output_type": "stream",
     "text": [
      "The autoreload extension is already loaded. To reload it, use:\n",
      "  %reload_ext autoreload\n"
     ]
    }
   ],
   "source": [
    "%load_ext autoreload\n",
    "%autoreload 2\n",
    "\n",
    "import json\n",
    "from datetime import datetime\n",
    "import os\n",
    "from pathlib import Path\n",
    "import re\n",
    "import sys\n",
    "\n",
    "import pandas as pd\n",
    "import polars as pl\n",
    "import numpy as np\n",
    "import geopandas as gpd\n",
    "from shapely.geometry import Point\n",
    "import matplotlib.pyplot as plt\n",
    "\n",
    "ROOT_PATH = Path(os.path.abspath(\"\")).parents[1]\n",
    "\n",
    "sys.path.append(str(ROOT_PATH))\n",
    "from src.functions.json_values import (\n",
    "    get_json_values,\n",
    "    get_json_values_parallel,\n",
    "    select_value,\n",
    ")\n",
    "from src.functions.flatten_dict import flatten_dict\n",
    "\n",
    "CLASSIFIED_PATH = ROOT_PATH / \"data/classified\"\n",
    "SCRAPING_DAY = 22"
   ]
  },
  {
   "cell_type": "code",
   "execution_count": 298,
   "metadata": {},
   "outputs": [],
   "source": [
    "# Extract date of classified\n",
    "def get_day(file_name: str):\n",
    "    ymd_groups = r\"^classified_.+_(\\d+)_(\\d+).json$\"\n",
    "    year_string = re.findall(ymd_groups, file_name)[0][\n",
    "        0\n",
    "    ]  # First element of list, first group\n",
    "    return datetime.strptime(year_string, \"%Y%m%d\").day"
   ]
  },
  {
   "cell_type": "code",
   "execution_count": 299,
   "metadata": {},
   "outputs": [
    {
     "name": "stdout",
     "output_type": "stream",
     "text": [
      "classified_10000290apartmentforrent8600Diksmuide_20230522_212157.json~\n"
     ]
    }
   ],
   "source": [
    "# Keep classified files that were captured on the 15th of May\n",
    "list_filenames = os.listdir(CLASSIFIED_PATH)\n",
    "new_list_filenames = []\n",
    "\n",
    "for filename in list_filenames:\n",
    "    try:\n",
    "        filename_day = get_day(filename)\n",
    "    except IndexError:\n",
    "        print(\n",
    "            filename\n",
    "        )  # Some filenames are changed by mistakes <- shouldn't happen too often\n",
    "        continue\n",
    "    if filename_day == SCRAPING_DAY:\n",
    "        new_list_filenames.append(filename)\n",
    "\n",
    "list_filenames = new_list_filenames"
   ]
  },
  {
   "cell_type": "code",
   "execution_count": 300,
   "metadata": {},
   "outputs": [
    {
     "data": {
      "text/plain": [
       "dict_keys(['user', 'classified', 'customer', 'screen', 'other_defined', 'classified_table'])"
      ]
     },
     "execution_count": 300,
     "metadata": {},
     "output_type": "execute_result"
    }
   ],
   "source": [
    "# Read one file and extract useful variables\n",
    "with open(CLASSIFIED_PATH / list_filenames[0]) as json_file:\n",
    "    class_dict = json.load(json_file)\n",
    "\n",
    "class_dict.keys()"
   ]
  },
  {
   "cell_type": "code",
   "execution_count": 301,
   "metadata": {},
   "outputs": [],
   "source": [
    "# Find and select renting locations\n",
    "list_transactions = get_json_values(\n",
    "    list_filenames, CLASSIFIED_PATH, \"classified\", \"transactionType\"\n",
    ")"
   ]
  },
  {
   "cell_type": "code",
   "execution_count": 302,
   "metadata": {},
   "outputs": [
    {
     "data": {
      "text/plain": [
       "array(['for rent', 'for sale'], dtype='<U8')"
      ]
     },
     "execution_count": 302,
     "metadata": {},
     "output_type": "execute_result"
    }
   ],
   "source": [
    "# Get unique\n",
    "np.unique(np.array(list_transactions))"
   ]
  },
  {
   "cell_type": "code",
   "execution_count": 303,
   "metadata": {},
   "outputs": [],
   "source": [
    "## Filter for rent and apartments\n",
    "list_types = get_json_values(list_filenames, CLASSIFIED_PATH, \"classified\", \"type\")"
   ]
  },
  {
   "cell_type": "code",
   "execution_count": 304,
   "metadata": {},
   "outputs": [
    {
     "data": {
      "text/plain": [
       "array(['apartment', 'apartment group', 'house', 'house group'],\n",
       "      dtype='<U15')"
      ]
     },
     "execution_count": 304,
     "metadata": {},
     "output_type": "execute_result"
    }
   ],
   "source": [
    "np.array(np.unique(list_types))"
   ]
  },
  {
   "cell_type": "code",
   "execution_count": 305,
   "metadata": {},
   "outputs": [],
   "source": [
    "## Filter JSONS about apartment to rent\n",
    "bl_type = np.isin(np.array(list_types), [\"apartment\", \"apartment group\"])\n",
    "bl_transact = np.isin(np.array(list_transactions), \"for rent\")\n",
    "bl = np.logical_and(bl_type, bl_transact)\n",
    "\n",
    "list_apartrent = [filename for filename, b in zip(list_filenames, bl) if b]"
   ]
  },
  {
   "cell_type": "code",
   "execution_count": 306,
   "metadata": {},
   "outputs": [
    {
     "data": {
      "text/plain": [
       "(1, 75)"
      ]
     },
     "execution_count": 306,
     "metadata": {},
     "output_type": "execute_result"
    }
   ],
   "source": [
    "# Possible values\n",
    "pl.DataFrame(flatten_dict(select_value(list_apartrent[0], CLASSIFIED_PATH))).shape"
   ]
  },
  {
   "cell_type": "code",
   "execution_count": 307,
   "metadata": {},
   "outputs": [
    {
     "data": {
      "text/plain": [
       "{'user': {'loginStatus': 'logged out', 'id': '', 'personal': {'language': ''}},\n",
       " 'classified': {'id': '10578471',\n",
       "  'type': 'apartment',\n",
       "  'subtype': 'apartment',\n",
       "  'price': '1050',\n",
       "  'transactionType': 'for rent',\n",
       "  'zip': '1060',\n",
       "  'visualisationOption': 'xl',\n",
       "  'kitchen': {'type': 'installed'},\n",
       "  'building': {'constructionYear': '1929', 'condition': 'good'},\n",
       "  'energy': {'heatingType': 'gas'},\n",
       "  'certificates': {'primaryEnergyConsumptionLevel': '324'},\n",
       "  'bedroom': {'count': '2'},\n",
       "  'land': {'surface': ''},\n",
       "  'atticExists': '',\n",
       "  'basementExists': '',\n",
       "  'outdoor': {'garden': {'surface': ''}, 'terrace': {'exists': ''}},\n",
       "  'specificities': {'SME': {'office': {'exists': 'true'}}},\n",
       "  'wellnessEquipment': {'hasSwimmingPool': ''},\n",
       "  'parking': {'parkingSpaceCount': {'indoor': '', 'outdoor': ''}},\n",
       "  'condition': {'isNewlyBuilt': ''}},\n",
       " 'customer': {'id': '2575488',\n",
       "  'name': 'we invest bruxelles',\n",
       "  'family': 'agency',\n",
       "  'groupInfo': {'id': '', 'name': ''},\n",
       "  'networkInfo': {'id': '', 'name': ''}},\n",
       " 'screen': {'name': 'classified details', 'language': 'en'},\n",
       " 'other_defined': {'name': 'Apartment for rent , 2 bedrooms, €1,050 (+ €60)',\n",
       "  'description': 'MAIL: guillaume.l@weinvest.be. We Invest offers you this large and bright two bedroom apartment located near the town hall of St-Gilles and the park of Forest! It is located on the 4th floor without elevator and is composed as follows: a large entrance hall, a large living room of +-40m2, a bedroom of 17m2 with adjoining office, a second bedroom of 11m2, a bathroom, an equipped kitchen. Charges : 60€ (common only) PEB : F'},\n",
       " 'classified_table': {'available_as_of': 'immediately',\n",
       "  'available_date': 'may 19 2023 - 12:00 am',\n",
       "  'construction_year': '1929',\n",
       "  'floor': '4',\n",
       "  'number_of_floors': '4',\n",
       "  'building_condition': 'good',\n",
       "  'street_frontage_width': '7 m',\n",
       "  'number_of_frontages': '2',\n",
       "  'surroundings_type': 'urban',\n",
       "  'living_area': '92',\n",
       "  'living_room_surface': '38',\n",
       "  'kitchen_type': 'installed',\n",
       "  'kitchen_surface': '10',\n",
       "  'bedrooms': '2',\n",
       "  'bedroom_1_surface': '17',\n",
       "  'bedroom_2_surface': '11',\n",
       "  'bathrooms': '1',\n",
       "  'toilets': '1',\n",
       "  'office': 'yes',\n",
       "  'furnished': 'no',\n",
       "  'elevator': 'no',\n",
       "  'accessible_for_disabled_people': 'no',\n",
       "  'intercom': 'yes',\n",
       "  'tv_cable': 'yes',\n",
       "  'swimming_pool': 'no',\n",
       "  'primary_energy_consumption': '324',\n",
       "  'energy_class': 'f',\n",
       "  'reference_number_of_the_epc_report': 'not specified',\n",
       "  'co₂_emission': '69 kg co₂/m²',\n",
       "  'yearly_theoretical_total_energy_consumption': 'not specified',\n",
       "  'heating_type': 'gas',\n",
       "  'double_glazing': 'yes',\n",
       "  'monthly_rental_price': '',\n",
       "  'monthly_costs': '',\n",
       "  'tenement_building': 'no',\n",
       "  'address': 'place communale 8',\n",
       "  'website': '',\n",
       "  'external_reference': '5348751'}}"
      ]
     },
     "execution_count": 307,
     "metadata": {},
     "output_type": "execute_result"
    }
   ],
   "source": [
    "select_value(list_apartrent[0], CLASSIFIED_PATH)"
   ]
  },
  {
   "cell_type": "code",
   "execution_count": 308,
   "metadata": {},
   "outputs": [],
   "source": [
    "# Defining component I want to extract from the apartments to rent\n",
    "component_dict = {\n",
    "    \"listing_id\": [\"classified\", \"id\"],\n",
    "    \"price\": [\"classified\", \"price\"],\n",
    "    \"contact_type\": [\"customer\", \"family\"],\n",
    "    \"contact_name\": [\"customer\", \"name\"],\n",
    "    \"subtype\": [\"classified\", \"subtype\"],\n",
    "    \"zip_code\": [\"classified\", \"zip\"],\n",
    "    \"construction_year\": [\"building\", \"constructionYear\"],\n",
    "    \"building_condition\": [\"building\", \"condition\"],\n",
    "    \"energy_consumption\": [\"certificates\", \"primaryEnergyConsumptionLevel\"],\n",
    "    \"energy_class\": [\"classified_table\", \"energy_class\"],\n",
    "    \"n_bedrooms\": [\"bedroom\", \"count\"],\n",
    "    \"land_surface\": [\"land\", \"surface\"],\n",
    "    \"surroundings_type\": [\"classified_table\", \"surroundings_type\"],\n",
    "    \"living_area\": [\"classified_table\", \"living_area\"],\n",
    "}"
   ]
  },
  {
   "cell_type": "code",
   "execution_count": 309,
   "metadata": {},
   "outputs": [
    {
     "data": {
      "text/html": [
       "<div><style>\n",
       ".dataframe > thead > tr > th,\n",
       ".dataframe > tbody > tr > td {\n",
       "  text-align: right;\n",
       "}\n",
       "</style>\n",
       "<small>shape: (5, 14)</small><table border=\"1\" class=\"dataframe\"><thead><tr><th>listing_id</th><th>price</th><th>contact_type</th><th>contact_name</th><th>subtype</th><th>zip_code</th><th>construction_year</th><th>building_condition</th><th>energy_consumption</th><th>energy_class</th><th>n_bedrooms</th><th>land_surface</th><th>surroundings_type</th><th>living_area</th></tr><tr><td>str</td><td>str</td><td>str</td><td>str</td><td>str</td><td>str</td><td>f32</td><td>f32</td><td>f32</td><td>str</td><td>f32</td><td>f32</td><td>str</td><td>str</td></tr></thead><tbody><tr><td>&quot;10578471&quot;</td><td>&quot;1050&quot;</td><td>&quot;agency&quot;</td><td>&quot;we invest brux…</td><td>&quot;apartment&quot;</td><td>&quot;1060&quot;</td><td>null</td><td>null</td><td>null</td><td>&quot;f&quot;</td><td>null</td><td>null</td><td>&quot;urban&quot;</td><td>&quot;92&quot;</td></tr><tr><td>&quot;10579694&quot;</td><td>&quot;2750&quot;</td><td>&quot;agency&quot;</td><td>&quot;bathim &amp;amp; c…</td><td>&quot;penthouse&quot;</td><td>&quot;1050&quot;</td><td>null</td><td>null</td><td>null</td><td>&quot;d&quot;</td><td>null</td><td>null</td><td>&quot;urban&quot;</td><td>&quot;200&quot;</td></tr><tr><td>&quot;10578602&quot;</td><td>&quot;1250&quot;</td><td>&quot;agency&quot;</td><td>&quot;bathim &amp;amp; c…</td><td>&quot;apartment&quot;</td><td>&quot;1000&quot;</td><td>null</td><td>null</td><td>null</td><td>&quot;b&quot;</td><td>null</td><td>null</td><td>&quot;living area (r…</td><td>&quot;50&quot;</td></tr><tr><td>&quot;10527337&quot;</td><td>&quot;1350&quot;</td><td>&quot;agency&quot;</td><td>&quot;place 4 you&quot;</td><td>&quot;duplex&quot;</td><td>&quot;1150&quot;</td><td>null</td><td>null</td><td>null</td><td>&quot;g&quot;</td><td>null</td><td>null</td><td>&quot;living area (r…</td><td>&quot;80&quot;</td></tr><tr><td>&quot;10578603&quot;</td><td>&quot;1250&quot;</td><td>&quot;agency&quot;</td><td>&quot;bathim &amp;amp; c…</td><td>&quot;apartment&quot;</td><td>&quot;1030&quot;</td><td>null</td><td>null</td><td>null</td><td>&quot;d&quot;</td><td>null</td><td>null</td><td>&quot;isolated&quot;</td><td>&quot;85&quot;</td></tr></tbody></table></div>"
      ],
      "text/plain": [
       "shape: (5, 14)\n",
       "┌──────────┬───────┬────────────┬────────────┬───┬──────────┬────────────┬────────────┬───────────┐\n",
       "│ listing_ ┆ price ┆ contact_ty ┆ contact_na ┆ … ┆ n_bedroo ┆ land_surfa ┆ surroundin ┆ living_ar │\n",
       "│ id       ┆ ---   ┆ pe         ┆ me         ┆   ┆ ms       ┆ ce         ┆ gs_type    ┆ ea        │\n",
       "│ ---      ┆ str   ┆ ---        ┆ ---        ┆   ┆ ---      ┆ ---        ┆ ---        ┆ ---       │\n",
       "│ str      ┆       ┆ str        ┆ str        ┆   ┆ f32      ┆ f32        ┆ str        ┆ str       │\n",
       "╞══════════╪═══════╪════════════╪════════════╪═══╪══════════╪════════════╪════════════╪═══════════╡\n",
       "│ 10578471 ┆ 1050  ┆ agency     ┆ we invest  ┆ … ┆ null     ┆ null       ┆ urban      ┆ 92        │\n",
       "│          ┆       ┆            ┆ bruxelles  ┆   ┆          ┆            ┆            ┆           │\n",
       "│ 10579694 ┆ 2750  ┆ agency     ┆ bathim     ┆ … ┆ null     ┆ null       ┆ urban      ┆ 200       │\n",
       "│          ┆       ┆            ┆ &amp; co   ┆   ┆          ┆            ┆            ┆           │\n",
       "│          ┆       ┆            ┆ l’immobili ┆   ┆          ┆            ┆            ┆           │\n",
       "│          ┆       ┆            ┆ er sur…    ┆   ┆          ┆            ┆            ┆           │\n",
       "│ 10578602 ┆ 1250  ┆ agency     ┆ bathim     ┆ … ┆ null     ┆ null       ┆ living     ┆ 50        │\n",
       "│          ┆       ┆            ┆ &amp; co   ┆   ┆          ┆            ┆ area (resi ┆           │\n",
       "│          ┆       ┆            ┆ l’immobili ┆   ┆          ┆            ┆ dential,   ┆           │\n",
       "│          ┆       ┆            ┆ er sur…    ┆   ┆          ┆            ┆ urban …    ┆           │\n",
       "│ 10527337 ┆ 1350  ┆ agency     ┆ place 4    ┆ … ┆ null     ┆ null       ┆ living     ┆ 80        │\n",
       "│          ┆       ┆            ┆ you        ┆   ┆          ┆            ┆ area (resi ┆           │\n",
       "│          ┆       ┆            ┆            ┆   ┆          ┆            ┆ dential,   ┆           │\n",
       "│          ┆       ┆            ┆            ┆   ┆          ┆            ┆ urban …    ┆           │\n",
       "│ 10578603 ┆ 1250  ┆ agency     ┆ bathim     ┆ … ┆ null     ┆ null       ┆ isolated   ┆ 85        │\n",
       "│          ┆       ┆            ┆ &amp; co   ┆   ┆          ┆            ┆            ┆           │\n",
       "│          ┆       ┆            ┆ l’immobili ┆   ┆          ┆            ┆            ┆           │\n",
       "│          ┆       ┆            ┆ er sur…    ┆   ┆          ┆            ┆            ┆           │\n",
       "└──────────┴───────┴────────────┴────────────┴───┴──────────┴────────────┴────────────┴───────────┘"
      ]
     },
     "execution_count": 309,
     "metadata": {},
     "output_type": "execute_result"
    }
   ],
   "source": [
    "pl_apart = pl.DataFrame()\n",
    "\n",
    "for key in component_dict.keys():\n",
    "    data_arr = get_json_values(list_apartrent, CLASSIFIED_PATH, *component_dict[key])\n",
    "    pl_apart = pl_apart.with_columns(pl.lit(data_arr).alias(key))\n",
    "\n",
    "\n",
    "pl_apart.head()"
   ]
  },
  {
   "cell_type": "code",
   "execution_count": 310,
   "metadata": {},
   "outputs": [],
   "source": [
    "# With price, save only max price, parse\n",
    "price_list = pl_apart.select(\"price\").to_numpy().ravel().tolist()"
   ]
  },
  {
   "cell_type": "code",
   "execution_count": 311,
   "metadata": {},
   "outputs": [
    {
     "name": "stdout",
     "output_type": "stream",
     "text": [
      "('900', ' - 922')\n",
      "('950', ' - 1050')\n",
      "('950', ' - 1390')\n",
      "('915', ' - 915')\n",
      "('860', ' - 1180')\n",
      "[]\n",
      "('825', ' - 995')\n",
      "('765', ' - 853')\n",
      "('950', ' - 1150')\n"
     ]
    }
   ],
   "source": [
    "# Investigating strange price patterns\n",
    "pattern = r\"(\\d+)(.*)\"\n",
    "for price in price_list:\n",
    "    found = re.findall(pattern, price)\n",
    "    try:\n",
    "        if found[0][1] != \"\":\n",
    "            print(found[0])\n",
    "    except IndexError:\n",
    "        print(found)"
   ]
  },
  {
   "cell_type": "code",
   "execution_count": 312,
   "metadata": {},
   "outputs": [],
   "source": [
    "adjusted_prices = []\n",
    "\n",
    "pattern = r\"(\\d+)( - )?(\\d+)\"\n",
    "for price in price_list:\n",
    "    found = re.findall(pattern, price)\n",
    "    try:\n",
    "        if found[0][1] != \"\":\n",
    "            adjusted_prices.append(found[0][2])\n",
    "        else:\n",
    "            adjusted_prices.append(price)\n",
    "    except IndexError:\n",
    "        adjusted_prices.append(None)"
   ]
  },
  {
   "cell_type": "code",
   "execution_count": 313,
   "metadata": {},
   "outputs": [],
   "source": [
    "# Replace adjusted prices (we retain the max rent price)\n",
    "pl_apart = pl_apart.with_columns(pl.lit(adjusted_prices).cast(pl.Int64).alias(\"price\"))"
   ]
  },
  {
   "cell_type": "code",
   "execution_count": 314,
   "metadata": {},
   "outputs": [],
   "source": [
    "# Cast rows as relevant\n",
    "q = [\n",
    "    pl.col(\"price\").cast(pl.Int64),\n",
    "    pl.col(\"n_bedrooms\").cast(pl.Int64),\n",
    "    pl.col(\"energy_consumption\").cast(pl.Int64),\n",
    "    pl.col(\"construction_year\").cast(pl.Int64),\n",
    "    pl.col(\"zip_code\").cast(pl.Int64),\n",
    "    pl.col(\"living_area\").cast(pl.Float64),\n",
    "]\n",
    "\n",
    "pl_apart = pl_apart.with_columns(q)"
   ]
  },
  {
   "cell_type": "code",
   "execution_count": 315,
   "metadata": {},
   "outputs": [
    {
     "data": {
      "text/html": [
       "<div><style>\n",
       ".dataframe > thead > tr > th,\n",
       ".dataframe > tbody > tr > td {\n",
       "  text-align: right;\n",
       "}\n",
       "</style>\n",
       "<small>shape: (5, 14)</small><table border=\"1\" class=\"dataframe\"><thead><tr><th>listing_id</th><th>price</th><th>contact_type</th><th>contact_name</th><th>subtype</th><th>zip_code</th><th>construction_year</th><th>building_condition</th><th>energy_consumption</th><th>energy_class</th><th>n_bedrooms</th><th>land_surface</th><th>surroundings_type</th><th>living_area</th></tr><tr><td>str</td><td>i64</td><td>str</td><td>str</td><td>str</td><td>i64</td><td>i64</td><td>f32</td><td>i64</td><td>str</td><td>i64</td><td>f32</td><td>str</td><td>f64</td></tr></thead><tbody><tr><td>&quot;10578471&quot;</td><td>1050</td><td>&quot;agency&quot;</td><td>&quot;we invest brux…</td><td>&quot;apartment&quot;</td><td>1060</td><td>null</td><td>null</td><td>null</td><td>&quot;f&quot;</td><td>null</td><td>null</td><td>&quot;urban&quot;</td><td>92.0</td></tr><tr><td>&quot;10579694&quot;</td><td>2750</td><td>&quot;agency&quot;</td><td>&quot;bathim &amp;amp; c…</td><td>&quot;penthouse&quot;</td><td>1050</td><td>null</td><td>null</td><td>null</td><td>&quot;d&quot;</td><td>null</td><td>null</td><td>&quot;urban&quot;</td><td>200.0</td></tr><tr><td>&quot;10578602&quot;</td><td>1250</td><td>&quot;agency&quot;</td><td>&quot;bathim &amp;amp; c…</td><td>&quot;apartment&quot;</td><td>1000</td><td>null</td><td>null</td><td>null</td><td>&quot;b&quot;</td><td>null</td><td>null</td><td>&quot;living area (r…</td><td>50.0</td></tr><tr><td>&quot;10527337&quot;</td><td>1350</td><td>&quot;agency&quot;</td><td>&quot;place 4 you&quot;</td><td>&quot;duplex&quot;</td><td>1150</td><td>null</td><td>null</td><td>null</td><td>&quot;g&quot;</td><td>null</td><td>null</td><td>&quot;living area (r…</td><td>80.0</td></tr><tr><td>&quot;10578603&quot;</td><td>1250</td><td>&quot;agency&quot;</td><td>&quot;bathim &amp;amp; c…</td><td>&quot;apartment&quot;</td><td>1030</td><td>null</td><td>null</td><td>null</td><td>&quot;d&quot;</td><td>null</td><td>null</td><td>&quot;isolated&quot;</td><td>85.0</td></tr></tbody></table></div>"
      ],
      "text/plain": [
       "shape: (5, 14)\n",
       "┌──────────┬───────┬────────────┬────────────┬───┬──────────┬────────────┬────────────┬───────────┐\n",
       "│ listing_ ┆ price ┆ contact_ty ┆ contact_na ┆ … ┆ n_bedroo ┆ land_surfa ┆ surroundin ┆ living_ar │\n",
       "│ id       ┆ ---   ┆ pe         ┆ me         ┆   ┆ ms       ┆ ce         ┆ gs_type    ┆ ea        │\n",
       "│ ---      ┆ i64   ┆ ---        ┆ ---        ┆   ┆ ---      ┆ ---        ┆ ---        ┆ ---       │\n",
       "│ str      ┆       ┆ str        ┆ str        ┆   ┆ i64      ┆ f32        ┆ str        ┆ f64       │\n",
       "╞══════════╪═══════╪════════════╪════════════╪═══╪══════════╪════════════╪════════════╪═══════════╡\n",
       "│ 10578471 ┆ 1050  ┆ agency     ┆ we invest  ┆ … ┆ null     ┆ null       ┆ urban      ┆ 92.0      │\n",
       "│          ┆       ┆            ┆ bruxelles  ┆   ┆          ┆            ┆            ┆           │\n",
       "│ 10579694 ┆ 2750  ┆ agency     ┆ bathim     ┆ … ┆ null     ┆ null       ┆ urban      ┆ 200.0     │\n",
       "│          ┆       ┆            ┆ &amp; co   ┆   ┆          ┆            ┆            ┆           │\n",
       "│          ┆       ┆            ┆ l’immobili ┆   ┆          ┆            ┆            ┆           │\n",
       "│          ┆       ┆            ┆ er sur…    ┆   ┆          ┆            ┆            ┆           │\n",
       "│ 10578602 ┆ 1250  ┆ agency     ┆ bathim     ┆ … ┆ null     ┆ null       ┆ living     ┆ 50.0      │\n",
       "│          ┆       ┆            ┆ &amp; co   ┆   ┆          ┆            ┆ area (resi ┆           │\n",
       "│          ┆       ┆            ┆ l’immobili ┆   ┆          ┆            ┆ dential,   ┆           │\n",
       "│          ┆       ┆            ┆ er sur…    ┆   ┆          ┆            ┆ urban …    ┆           │\n",
       "│ 10527337 ┆ 1350  ┆ agency     ┆ place 4    ┆ … ┆ null     ┆ null       ┆ living     ┆ 80.0      │\n",
       "│          ┆       ┆            ┆ you        ┆   ┆          ┆            ┆ area (resi ┆           │\n",
       "│          ┆       ┆            ┆            ┆   ┆          ┆            ┆ dential,   ┆           │\n",
       "│          ┆       ┆            ┆            ┆   ┆          ┆            ┆ urban …    ┆           │\n",
       "│ 10578603 ┆ 1250  ┆ agency     ┆ bathim     ┆ … ┆ null     ┆ null       ┆ isolated   ┆ 85.0      │\n",
       "│          ┆       ┆            ┆ &amp; co   ┆   ┆          ┆            ┆            ┆           │\n",
       "│          ┆       ┆            ┆ l’immobili ┆   ┆          ┆            ┆            ┆           │\n",
       "│          ┆       ┆            ┆ er sur…    ┆   ┆          ┆            ┆            ┆           │\n",
       "└──────────┴───────┴────────────┴────────────┴───┴──────────┴────────────┴────────────┴───────────┘"
      ]
     },
     "execution_count": 315,
     "metadata": {},
     "output_type": "execute_result"
    }
   ],
   "source": [
    "pl_apart.head()"
   ]
  },
  {
   "cell_type": "code",
   "execution_count": 316,
   "metadata": {},
   "outputs": [
    {
     "data": {
      "text/html": [
       "<div><style>\n",
       ".dataframe > thead > tr > th,\n",
       ".dataframe > tbody > tr > td {\n",
       "  text-align: right;\n",
       "}\n",
       "</style>\n",
       "<small>shape: (8, 2)</small><table border=\"1\" class=\"dataframe\"><thead><tr><th>contact_type</th><th>count</th></tr><tr><td>str</td><td>u32</td></tr></thead><tbody><tr><td>&quot;agency_paying_…</td><td>127</td></tr><tr><td>&quot;real_estate_ag…</td><td>121</td></tr><tr><td>&quot;property_devel…</td><td>163</td></tr><tr><td>&quot;notary&quot;</td><td>1</td></tr><tr><td>&quot;company&quot;</td><td>32</td></tr><tr><td>&quot;private&quot;</td><td>2434</td></tr><tr><td>&quot;agency&quot;</td><td>7041</td></tr><tr><td>&quot;company_paying…</td><td>33</td></tr></tbody></table></div>"
      ],
      "text/plain": [
       "shape: (8, 2)\n",
       "┌───────────────────────────┬───────┐\n",
       "│ contact_type              ┆ count │\n",
       "│ ---                       ┆ ---   │\n",
       "│ str                       ┆ u32   │\n",
       "╞═══════════════════════════╪═══════╡\n",
       "│ agency_paying_with_ogone  ┆ 127   │\n",
       "│ real_estate_agency        ┆ 121   │\n",
       "│ property_developer        ┆ 163   │\n",
       "│ notary                    ┆ 1     │\n",
       "│ company                   ┆ 32    │\n",
       "│ private                   ┆ 2434  │\n",
       "│ agency                    ┆ 7041  │\n",
       "│ company_paying_with_ogone ┆ 33    │\n",
       "└───────────────────────────┴───────┘"
      ]
     },
     "execution_count": 316,
     "metadata": {},
     "output_type": "execute_result"
    }
   ],
   "source": [
    "# Contact types\n",
    "pl_apart.groupby(\"contact_type\").count()"
   ]
  },
  {
   "cell_type": "code",
   "execution_count": 317,
   "metadata": {},
   "outputs": [
    {
     "data": {
      "text/html": [
       "<div><style>\n",
       ".dataframe > thead > tr > th,\n",
       ".dataframe > tbody > tr > td {\n",
       "  text-align: right;\n",
       "}\n",
       "</style>\n",
       "<small>shape: (5, 4)</small><table border=\"1\" class=\"dataframe\"><thead><tr><th>zip_code</th><th>commune</th><th>geo_long</th><th>geo_lat</th></tr><tr><td>i64</td><td>str</td><td>f64</td><td>f64</td></tr></thead><tbody><tr><td>1000</td><td>&quot;Bruxelles&quot;</td><td>4.351697</td><td>50.846557</td></tr><tr><td>1020</td><td>&quot;Laeken&quot;</td><td>4.3487134</td><td>50.883392</td></tr><tr><td>1030</td><td>&quot;Schaerbeek&quot;</td><td>4.3737121</td><td>50.867604</td></tr><tr><td>1040</td><td>&quot;Etterbeek&quot;</td><td>4.3895104</td><td>50.836851</td></tr><tr><td>1050</td><td>&quot;Ixelles&quot;</td><td>4.3815707</td><td>50.822285</td></tr></tbody></table></div>"
      ],
      "text/plain": [
       "shape: (5, 4)\n",
       "┌──────────┬────────────┬───────────┬───────────┐\n",
       "│ zip_code ┆ commune    ┆ geo_long  ┆ geo_lat   │\n",
       "│ ---      ┆ ---        ┆ ---       ┆ ---       │\n",
       "│ i64      ┆ str        ┆ f64       ┆ f64       │\n",
       "╞══════════╪════════════╪═══════════╪═══════════╡\n",
       "│ 1000     ┆ Bruxelles  ┆ 4.351697  ┆ 50.846557 │\n",
       "│ 1020     ┆ Laeken     ┆ 4.3487134 ┆ 50.883392 │\n",
       "│ 1030     ┆ Schaerbeek ┆ 4.3737121 ┆ 50.867604 │\n",
       "│ 1040     ┆ Etterbeek  ┆ 4.3895104 ┆ 50.836851 │\n",
       "│ 1050     ┆ Ixelles    ┆ 4.3815707 ┆ 50.822285 │\n",
       "└──────────┴────────────┴───────────┴───────────┘"
      ]
     },
     "execution_count": 317,
     "metadata": {},
     "output_type": "execute_result"
    }
   ],
   "source": [
    "# Load zipcodes and coordinates data (and merge)\n",
    "pl_zip = pl.read_csv(ROOT_PATH / \"data/zipcode-belgium.csv\", has_header=False)\n",
    "pl_zip.columns = [\"zip_code\", \"commune\", \"geo_long\", \"geo_lat\"]\n",
    "\n",
    "pl_zip.head()"
   ]
  },
  {
   "cell_type": "code",
   "execution_count": 318,
   "metadata": {},
   "outputs": [],
   "source": [
    "pl_apart = pl_apart.join(pl_zip, on=\"zip_code\", how=\"left\")"
   ]
  },
  {
   "cell_type": "code",
   "execution_count": 319,
   "metadata": {},
   "outputs": [
    {
     "data": {
      "text/html": [
       "<div><style>\n",
       ".dataframe > thead > tr > th,\n",
       ".dataframe > tbody > tr > td {\n",
       "  text-align: right;\n",
       "}\n",
       "</style>\n",
       "<small>shape: (1, 1)</small><table border=\"1\" class=\"dataframe\"><thead><tr><th>geo_long</th></tr><tr><td>u32</td></tr></thead><tbody><tr><td>0</td></tr></tbody></table></div>"
      ],
      "text/plain": [
       "shape: (1, 1)\n",
       "┌──────────┐\n",
       "│ geo_long │\n",
       "│ ---      │\n",
       "│ u32      │\n",
       "╞══════════╡\n",
       "│ 0        │\n",
       "└──────────┘"
      ]
     },
     "execution_count": 319,
     "metadata": {},
     "output_type": "execute_result"
    }
   ],
   "source": [
    "# Any coordinate data missing?\n",
    "pl_apart.select(pl.col(\"geo_long\").is_null().sum())"
   ]
  },
  {
   "cell_type": "code",
   "execution_count": 320,
   "metadata": {},
   "outputs": [],
   "source": [
    "# Check for duplicate ids -> A lot\n",
    "# Filter them out\n",
    "q = pl.col(\"listing_id\").is_duplicated().is_not()\n",
    "pl_apart = pl_apart.filter(q)"
   ]
  },
  {
   "cell_type": "code",
   "execution_count": 321,
   "metadata": {},
   "outputs": [
    {
     "data": {
      "text/html": [
       "<div>\n",
       "<style scoped>\n",
       "    .dataframe tbody tr th:only-of-type {\n",
       "        vertical-align: middle;\n",
       "    }\n",
       "\n",
       "    .dataframe tbody tr th {\n",
       "        vertical-align: top;\n",
       "    }\n",
       "\n",
       "    .dataframe thead th {\n",
       "        text-align: right;\n",
       "    }\n",
       "</style>\n",
       "<table border=\"1\" class=\"dataframe\">\n",
       "  <thead>\n",
       "    <tr style=\"text-align: right;\">\n",
       "      <th></th>\n",
       "      <th>tgid</th>\n",
       "      <th>modifdate</th>\n",
       "      <th>arrondissementcapital</th>\n",
       "      <th>provincecapital</th>\n",
       "      <th>regioncapital</th>\n",
       "      <th>countrycapital</th>\n",
       "      <th>niscode</th>\n",
       "      <th>city</th>\n",
       "      <th>languagestatute</th>\n",
       "      <th>nameger</th>\n",
       "      <th>namefre</th>\n",
       "      <th>namedut</th>\n",
       "      <th>geometry</th>\n",
       "    </tr>\n",
       "  </thead>\n",
       "  <tbody>\n",
       "    <tr>\n",
       "      <th>0</th>\n",
       "      <td>{8BF44CB0-B8FD-44F6-A64F-1307610DA4C9}</td>\n",
       "      <td>2007-01-05</td>\n",
       "      <td>False</td>\n",
       "      <td>False</td>\n",
       "      <td>False</td>\n",
       "      <td>False</td>\n",
       "      <td>72004</td>\n",
       "      <td>1</td>\n",
       "      <td>1</td>\n",
       "      <td>Bree</td>\n",
       "      <td>Bree</td>\n",
       "      <td>Bree</td>\n",
       "      <td>MULTIPOLYGON Z (((735277.942 700725.863 0.000,...</td>\n",
       "    </tr>\n",
       "    <tr>\n",
       "      <th>1</th>\n",
       "      <td>{54A85359-4967-4318-AA63-D234DDED2FD7}</td>\n",
       "      <td>2007-01-05</td>\n",
       "      <td>False</td>\n",
       "      <td>False</td>\n",
       "      <td>False</td>\n",
       "      <td>False</td>\n",
       "      <td>63004</td>\n",
       "      <td>0</td>\n",
       "      <td>2</td>\n",
       "      <td>Baelen</td>\n",
       "      <td>Baelen</td>\n",
       "      <td>Baelen</td>\n",
       "      <td>MULTIPOLYGON Z (((767808.071 646176.387 0.000,...</td>\n",
       "    </tr>\n",
       "    <tr>\n",
       "      <th>2</th>\n",
       "      <td>{95E2AAE2-F9DB-456C-A113-2A21ED6F932F}</td>\n",
       "      <td>2007-01-05</td>\n",
       "      <td>False</td>\n",
       "      <td>False</td>\n",
       "      <td>False</td>\n",
       "      <td>False</td>\n",
       "      <td>13003</td>\n",
       "      <td>0</td>\n",
       "      <td>1</td>\n",
       "      <td>Balen</td>\n",
       "      <td>Balen</td>\n",
       "      <td>Balen</td>\n",
       "      <td>MULTIPOLYGON Z (((708505.571 703629.811 0.000,...</td>\n",
       "    </tr>\n",
       "    <tr>\n",
       "      <th>3</th>\n",
       "      <td>{4487B4B8-4422-4856-97C5-33174BF84028}</td>\n",
       "      <td>2007-01-05</td>\n",
       "      <td>False</td>\n",
       "      <td>False</td>\n",
       "      <td>False</td>\n",
       "      <td>False</td>\n",
       "      <td>62011</td>\n",
       "      <td>0</td>\n",
       "      <td>2</td>\n",
       "      <td>Bassenge</td>\n",
       "      <td>Bassenge</td>\n",
       "      <td>Bitsingen</td>\n",
       "      <td>MULTIPOLYGON Z (((738180.089 660714.898 0.000,...</td>\n",
       "    </tr>\n",
       "    <tr>\n",
       "      <th>4</th>\n",
       "      <td>{68A224E9-B2E7-4225-9FDA-03AE2B9C8C41}</td>\n",
       "      <td>2007-01-05</td>\n",
       "      <td>False</td>\n",
       "      <td>False</td>\n",
       "      <td>False</td>\n",
       "      <td>False</td>\n",
       "      <td>85046</td>\n",
       "      <td>0</td>\n",
       "      <td>2</td>\n",
       "      <td>Habay</td>\n",
       "      <td>Habay</td>\n",
       "      <td>Habay</td>\n",
       "      <td>MULTIPOLYGON Z (((741033.075 543058.412 0.000,...</td>\n",
       "    </tr>\n",
       "  </tbody>\n",
       "</table>\n",
       "</div>"
      ],
      "text/plain": [
       "                                     tgid  modifdate  arrondissementcapital  \\\n",
       "0  {8BF44CB0-B8FD-44F6-A64F-1307610DA4C9} 2007-01-05                  False   \n",
       "1  {54A85359-4967-4318-AA63-D234DDED2FD7} 2007-01-05                  False   \n",
       "2  {95E2AAE2-F9DB-456C-A113-2A21ED6F932F} 2007-01-05                  False   \n",
       "3  {4487B4B8-4422-4856-97C5-33174BF84028} 2007-01-05                  False   \n",
       "4  {68A224E9-B2E7-4225-9FDA-03AE2B9C8C41} 2007-01-05                  False   \n",
       "\n",
       "   provincecapital  regioncapital  countrycapital niscode  city  \\\n",
       "0            False          False           False   72004     1   \n",
       "1            False          False           False   63004     0   \n",
       "2            False          False           False   13003     0   \n",
       "3            False          False           False   62011     0   \n",
       "4            False          False           False   85046     0   \n",
       "\n",
       "   languagestatute   nameger   namefre    namedut  \\\n",
       "0                1      Bree      Bree       Bree   \n",
       "1                2    Baelen    Baelen     Baelen   \n",
       "2                1     Balen     Balen      Balen   \n",
       "3                2  Bassenge  Bassenge  Bitsingen   \n",
       "4                2     Habay     Habay      Habay   \n",
       "\n",
       "                                            geometry  \n",
       "0  MULTIPOLYGON Z (((735277.942 700725.863 0.000,...  \n",
       "1  MULTIPOLYGON Z (((767808.071 646176.387 0.000,...  \n",
       "2  MULTIPOLYGON Z (((708505.571 703629.811 0.000,...  \n",
       "3  MULTIPOLYGON Z (((738180.089 660714.898 0.000,...  \n",
       "4  MULTIPOLYGON Z (((741033.075 543058.412 0.000,...  "
      ]
     },
     "execution_count": 321,
     "metadata": {},
     "output_type": "execute_result"
    }
   ],
   "source": [
    "# Read municipality shape file\n",
    "gpd_municipalities = gpd.read_file(\n",
    "    ROOT_PATH / \"data/adminvector_3812.gpkg\", layer=\"municipality\"\n",
    ")\n",
    "gpd_municipalities.head()"
   ]
  },
  {
   "cell_type": "code",
   "execution_count": 322,
   "metadata": {},
   "outputs": [],
   "source": [
    "# Convert to pandas\n",
    "df_apart = pl_apart.to_pandas()"
   ]
  },
  {
   "cell_type": "code",
   "execution_count": 323,
   "metadata": {},
   "outputs": [],
   "source": [
    "# Spatial join\n",
    "apart_geom = [Point(x, y) for x, y in zip(df_apart[\"geo_long\"], df_apart[\"geo_lat\"])]\n",
    "df_apart = df_apart.drop([\"geo_long\", \"geo_lat\"], axis=1)\n",
    "gpd_apart = gpd.GeoDataFrame(df_apart, geometry=apart_geom)"
   ]
  },
  {
   "cell_type": "code",
   "execution_count": 324,
   "metadata": {},
   "outputs": [
    {
     "name": "stderr",
     "output_type": "stream",
     "text": [
      "/home/marc/.conda/envs/immo_report/lib/python3.11/site-packages/geopandas/geodataframe.py:2178: UserWarning: CRS mismatch between the CRS of left geometries and the CRS of right geometries.\n",
      "Use `to_crs()` to reproject one of the input geometries to match the CRS of the other.\n",
      "\n",
      "Left CRS: None\n",
      "Right CRS: EPSG:4326\n",
      "\n",
      "  return geopandas.sjoin(left_df=self, right_df=df, *args, **kwargs)\n"
     ]
    }
   ],
   "source": [
    "gpd_apart = gpd_apart.sjoin(\n",
    "    gpd_municipalities.to_crs(\"EPSG:4326\"), how=\"left\", predicate=\"within\"\n",
    ")"
   ]
  }
 ],
 "metadata": {
  "kernelspec": {
   "display_name": "immo_report",
   "language": "python",
   "name": "python3"
  },
  "language_info": {
   "codemirror_mode": {
    "name": "ipython",
    "version": 3
   },
   "file_extension": ".py",
   "mimetype": "text/x-python",
   "name": "python",
   "nbconvert_exporter": "python",
   "pygments_lexer": "ipython3",
   "version": "3.11.3"
  },
  "orig_nbformat": 4
 },
 "nbformat": 4,
 "nbformat_minor": 2
}
