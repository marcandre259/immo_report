{
 "cells": [
  {
   "cell_type": "code",
   "execution_count": 20,
   "metadata": {},
   "outputs": [
    {
     "name": "stdout",
     "output_type": "stream",
     "text": [
      "The autoreload extension is already loaded. To reload it, use:\n",
      "  %reload_ext autoreload\n"
     ]
    }
   ],
   "source": [
    "%load_ext autoreload\n",
    "%autoreload 2\n",
    "\n",
    "import json\n",
    "from datetime import datetime\n",
    "import os\n",
    "from pathlib import Path\n",
    "import re\n",
    "import sys\n",
    "\n",
    "import pandas as pd\n",
    "import polars as pl\n",
    "import numpy as np\n",
    "\n",
    "ROOT_PATH = Path(os.path.abspath(\"\")).parents[1]\n",
    "\n",
    "sys.path.append(str(ROOT_PATH))\n",
    "from src.functions.json_values import (\n",
    "    get_json_values,\n",
    "    get_json_values_parallel,\n",
    "    select_value,\n",
    ")\n",
    "from src.functions.flatten_dict import flatten_dict\n",
    "\n",
    "CLASSIFIED_PATH = ROOT_PATH / \"data/classified\"\n",
    "SCRAPING_DAY = 22"
   ]
  },
  {
   "cell_type": "code",
   "execution_count": 3,
   "metadata": {},
   "outputs": [],
   "source": [
    "# Extract date of classified\n",
    "def get_day(file_name: str):\n",
    "    ymd_groups = r\"^classified_.+_(\\d+)_(\\d+).json$\"\n",
    "    year_string = re.findall(ymd_groups, file_name)[0][\n",
    "        0\n",
    "    ]  # First element of list, first group\n",
    "    return datetime.strptime(year_string, \"%Y%m%d\").day"
   ]
  },
  {
   "cell_type": "code",
   "execution_count": 4,
   "metadata": {},
   "outputs": [],
   "source": [
    "# Keep classified files that were captured on the 15th of May\n",
    "list_filenames = os.listdir(CLASSIFIED_PATH)\n",
    "list_filenames = [\n",
    "    filename for filename in list_filenames if get_day(filename) == SCRAPING_DAY\n",
    "]"
   ]
  },
  {
   "cell_type": "code",
   "execution_count": 5,
   "metadata": {},
   "outputs": [
    {
     "data": {
      "text/plain": [
       "dict_keys(['user', 'classified', 'customer', 'screen', 'other_defined', 'classified_table'])"
      ]
     },
     "execution_count": 5,
     "metadata": {},
     "output_type": "execute_result"
    }
   ],
   "source": [
    "# Read one file and extract useful variables\n",
    "with open(CLASSIFIED_PATH / list_filenames[0]) as json_file:\n",
    "    class_dict = json.load(json_file)\n",
    "\n",
    "class_dict.keys()"
   ]
  },
  {
   "cell_type": "code",
   "execution_count": 6,
   "metadata": {},
   "outputs": [],
   "source": [
    "# Find and select renting locations\n",
    "list_transactions = get_json_values(\n",
    "    list_filenames, CLASSIFIED_PATH, \"classified\", \"transactionType\"\n",
    ")"
   ]
  },
  {
   "cell_type": "code",
   "execution_count": 7,
   "metadata": {},
   "outputs": [
    {
     "data": {
      "text/plain": [
       "array(['for rent', 'for sale'], dtype='<U8')"
      ]
     },
     "execution_count": 7,
     "metadata": {},
     "output_type": "execute_result"
    }
   ],
   "source": [
    "# Get unique\n",
    "np.unique(np.array(list_transactions))"
   ]
  },
  {
   "cell_type": "code",
   "execution_count": 8,
   "metadata": {},
   "outputs": [],
   "source": [
    "## Filter for rent and apartments\n",
    "list_types = get_json_values(list_filenames, CLASSIFIED_PATH, \"classified\", \"type\")"
   ]
  },
  {
   "cell_type": "code",
   "execution_count": 10,
   "metadata": {},
   "outputs": [
    {
     "data": {
      "text/plain": [
       "array(['apartment', 'apartment group', 'house', 'house group'],\n",
       "      dtype='<U15')"
      ]
     },
     "execution_count": 10,
     "metadata": {},
     "output_type": "execute_result"
    }
   ],
   "source": [
    "np.array(np.unique(list_types))"
   ]
  },
  {
   "cell_type": "code",
   "execution_count": 12,
   "metadata": {},
   "outputs": [],
   "source": [
    "## Filter JSONS about apartment to rent\n",
    "bl_type = np.isin(np.array(list_types), [\"apartment\", \"apartment group\"])\n",
    "bl_transact = np.isin(np.array(list_transactions), \"for rent\")\n",
    "bl = np.logical_and(bl_type, bl_transact)\n",
    "\n",
    "list_apartrent = [filename for filename, b in zip(list_filenames, bl) if b]"
   ]
  },
  {
   "cell_type": "code",
   "execution_count": 22,
   "metadata": {},
   "outputs": [
    {
     "data": {
      "text/plain": [
       "(1, 75)"
      ]
     },
     "execution_count": 22,
     "metadata": {},
     "output_type": "execute_result"
    }
   ],
   "source": [
    "# Possible values\n",
    "pl.DataFrame(flatten_dict(select_value(list_apartrent[0], CLASSIFIED_PATH))).shape"
   ]
  },
  {
   "cell_type": "code",
   "execution_count": 23,
   "metadata": {},
   "outputs": [
    {
     "data": {
      "text/plain": [
       "{'user': {'loginStatus': 'logged out', 'id': '', 'personal': {'language': ''}},\n",
       " 'classified': {'id': '10578471',\n",
       "  'type': 'apartment',\n",
       "  'subtype': 'apartment',\n",
       "  'price': '1050',\n",
       "  'transactionType': 'for rent',\n",
       "  'zip': '1060',\n",
       "  'visualisationOption': 'xl',\n",
       "  'kitchen': {'type': 'installed'},\n",
       "  'building': {'constructionYear': '1929', 'condition': 'good'},\n",
       "  'energy': {'heatingType': 'gas'},\n",
       "  'certificates': {'primaryEnergyConsumptionLevel': '324'},\n",
       "  'bedroom': {'count': '2'},\n",
       "  'land': {'surface': ''},\n",
       "  'atticExists': '',\n",
       "  'basementExists': '',\n",
       "  'outdoor': {'garden': {'surface': ''}, 'terrace': {'exists': ''}},\n",
       "  'specificities': {'SME': {'office': {'exists': 'true'}}},\n",
       "  'wellnessEquipment': {'hasSwimmingPool': ''},\n",
       "  'parking': {'parkingSpaceCount': {'indoor': '', 'outdoor': ''}},\n",
       "  'condition': {'isNewlyBuilt': ''}},\n",
       " 'customer': {'id': '2575488',\n",
       "  'name': 'we invest bruxelles',\n",
       "  'family': 'agency',\n",
       "  'groupInfo': {'id': '', 'name': ''},\n",
       "  'networkInfo': {'id': '', 'name': ''}},\n",
       " 'screen': {'name': 'classified details', 'language': 'en'},\n",
       " 'other_defined': {'name': 'Apartment for rent , 2 bedrooms, €1,050 (+ €60)',\n",
       "  'description': 'MAIL: guillaume.l@weinvest.be. We Invest offers you this large and bright two bedroom apartment located near the town hall of St-Gilles and the park of Forest! It is located on the 4th floor without elevator and is composed as follows: a large entrance hall, a large living room of +-40m2, a bedroom of 17m2 with adjoining office, a second bedroom of 11m2, a bathroom, an equipped kitchen. Charges : 60€ (common only) PEB : F'},\n",
       " 'classified_table': {'available_as_of': 'immediately',\n",
       "  'available_date': 'may 19 2023 - 12:00 am',\n",
       "  'construction_year': '1929',\n",
       "  'floor': '4',\n",
       "  'number_of_floors': '4',\n",
       "  'building_condition': 'good',\n",
       "  'street_frontage_width': '7 m',\n",
       "  'number_of_frontages': '2',\n",
       "  'surroundings_type': 'urban',\n",
       "  'living_area': '92',\n",
       "  'living_room_surface': '38',\n",
       "  'kitchen_type': 'installed',\n",
       "  'kitchen_surface': '10',\n",
       "  'bedrooms': '2',\n",
       "  'bedroom_1_surface': '17',\n",
       "  'bedroom_2_surface': '11',\n",
       "  'bathrooms': '1',\n",
       "  'toilets': '1',\n",
       "  'office': 'yes',\n",
       "  'furnished': 'no',\n",
       "  'elevator': 'no',\n",
       "  'accessible_for_disabled_people': 'no',\n",
       "  'intercom': 'yes',\n",
       "  'tv_cable': 'yes',\n",
       "  'swimming_pool': 'no',\n",
       "  'primary_energy_consumption': '324',\n",
       "  'energy_class': 'f',\n",
       "  'reference_number_of_the_epc_report': 'not specified',\n",
       "  'co₂_emission': '69 kg co₂/m²',\n",
       "  'yearly_theoretical_total_energy_consumption': 'not specified',\n",
       "  'heating_type': 'gas',\n",
       "  'double_glazing': 'yes',\n",
       "  'monthly_rental_price': '',\n",
       "  'monthly_costs': '',\n",
       "  'tenement_building': 'no',\n",
       "  'address': 'place communale 8',\n",
       "  'website': '',\n",
       "  'external_reference': '5348751'}}"
      ]
     },
     "execution_count": 23,
     "metadata": {},
     "output_type": "execute_result"
    }
   ],
   "source": [
    "select_value(list_apartrent[0], CLASSIFIED_PATH)"
   ]
  },
  {
   "cell_type": "code",
   "execution_count": null,
   "metadata": {},
   "outputs": [],
   "source": [
    "# Defining component I want to extract from the apartments to rent\n",
    "component_dict = {\n",
    "    \"listing_id\": [\"classified\", \"id\"],\n",
    "    \"price\": [\"classified\", \"price\"],\n",
    "    \"contact_type\": [\"customer\", \"family\"],\n",
    "    \"contact_name\": [\"customer\", \"name\"],\n",
    "    \"subtype\": [\"classified\", \"subtype\"],\n",
    "    \"zip_code\": [\"classified\", \"zip\"],\n",
    "    \"construction_year\": [\"building\", \"constructionYear\"],\n",
    "    \"building_condition\": [\"building\", \"condition\"],\n",
    "    \"energy_consumption\": [\"certificates\", \"primaryEnergyConsumptionLevel\"],\n",
    "    \"energy_class\": [\"classified_table\", \"energy_class\"],\n",
    "    \"n_bedrooms\": [\"bedroom\", \"count\"],\n",
    "    \"land_surface\": [\"land\", \"surface\"],\n",
    "    \"surroundings_type\": [\"classified_table\", \"surroundings_type\"],\n",
    "}"
   ]
  }
 ],
 "metadata": {
  "kernelspec": {
   "display_name": "immo_report",
   "language": "python",
   "name": "python3"
  },
  "language_info": {
   "codemirror_mode": {
    "name": "ipython",
    "version": 3
   },
   "file_extension": ".py",
   "mimetype": "text/x-python",
   "name": "python",
   "nbconvert_exporter": "python",
   "pygments_lexer": "ipython3",
   "version": "3.11.3"
  },
  "orig_nbformat": 4
 },
 "nbformat": 4,
 "nbformat_minor": 2
}
